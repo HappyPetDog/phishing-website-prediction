{
  "cells": [
    {
      "cell_type": "markdown",
      "metadata": {
        "id": "o4JxibvT-5y2"
      },
      "source": [
        "# **Phishing Website Detection using Decision Trees**"
      ]
    },
    {
      "cell_type": "markdown",
      "metadata": {
        "id": "oE1f1WEpBneH"
      },
      "source": [
        "**A CS 180 Machine Learning Project**"
      ]
    },
    {
      "cell_type": "markdown",
      "metadata": {
        "id": "fLrXF64ZBRO_"
      },
      "source": [
        "## **Main Objective**\n",
        "\n",
        "In the digital age, the Internet is essential for communication and commerce but also brings security threats, with phishing being a major concern. Phishing tricks people into giving up sensitive information by posing as legitimate entities, leading to financial loss and identity theft (Dutta, 2021). The main challenge in fighting phishing is its evolving nature, as cybercriminals constantly update their tactics, outpacing traditional methods like blacklists (Almenari & Alshammari, 2023).\n",
        "\n",
        "Machine Learning (ML) offers a promising solution by analyzing various website characteristics—such as URL length, HTTPS usage, and PageRank—to predict phishing attempts. This approach is necessary given the limitations of current security measures (Dutta, 2021). Our project stands out by using a diverse set of features to train ML models, improving prediction accuracy. For example, a short URL may not be suspicious alone, but combined with a low PageRank and no HTTPS, it could indicate a phishing site (Almenari & Alshammari, 2023).\n",
        "\n",
        "This project has practical implications for enhancing online security, offering real-time warnings about potential phishing sites and aiding cybersecurity professionals in identifying threats more efficiently (Dutta, 2021). In summary, using ML to detect phishing websites based on various characteristics is a novel, challenging, and valuable endeavor to make the Internet safer for all users."
      ]
    },
    {
      "cell_type": "markdown",
      "metadata": {
        "id": "lmfUyfHqBMH1"
      },
      "source": [
        "## **Preliminaries**\n"
      ]
    },
    {
      "cell_type": "markdown",
      "metadata": {
        "id": "EuRj0c31vL59"
      },
      "source": [
        "Let's import important libraries for this project."
      ]
    },
    {
      "cell_type": "code",
      "execution_count": 31,
      "metadata": {
        "id": "CJDk9sHXvKWj"
      },
      "outputs": [],
      "source": [
        "import pandas as pd"
      ]
    },
    {
      "cell_type": "markdown",
      "metadata": {
        "id": "8FVeC6xZvS2e"
      },
      "source": [
        "Finally, let's import the dataset that will be used. Note that this dataset was constructed via `dataset-construction.ipynb` which was adapted from the Google Colab notebook created by Github user shreyagopal that can be found [here](https://colab.research.google.com/github/shreyagopal/Phishing-Website-Detection-by-Machine-Learning-Techniques/blob/master/URL%20Feature%20Extraction.ipynb). "
      ]
    },
    {
      "cell_type": "code",
      "execution_count": 32,
      "metadata": {
        "colab": {
          "base_uri": "https://localhost:8080/",
          "height": 226
        },
        "id": "4PTWr0GDvYmS",
        "outputId": "a6fd83ec-9cc3-4585-b461-c775da0c5943"
      },
      "outputs": [
        {
          "data": {
            "text/html": [
              "<div>\n",
              "<style scoped>\n",
              "    .dataframe tbody tr th:only-of-type {\n",
              "        vertical-align: middle;\n",
              "    }\n",
              "\n",
              "    .dataframe tbody tr th {\n",
              "        vertical-align: top;\n",
              "    }\n",
              "\n",
              "    .dataframe thead th {\n",
              "        text-align: right;\n",
              "    }\n",
              "</style>\n",
              "<table border=\"1\" class=\"dataframe\">\n",
              "  <thead>\n",
              "    <tr style=\"text-align: right;\">\n",
              "      <th></th>\n",
              "      <th>Domain</th>\n",
              "      <th>Have_IP</th>\n",
              "      <th>Have_At</th>\n",
              "      <th>URL_Length</th>\n",
              "      <th>URL_Depth</th>\n",
              "      <th>Redirection</th>\n",
              "      <th>https_Domain</th>\n",
              "      <th>TinyURL</th>\n",
              "      <th>Prefix/Suffix</th>\n",
              "      <th>DNS_Record</th>\n",
              "      <th>Domain_Age</th>\n",
              "      <th>Domain_End</th>\n",
              "      <th>iFrame</th>\n",
              "      <th>Mouse_Over</th>\n",
              "      <th>Right_Click</th>\n",
              "      <th>Web_Forwards</th>\n",
              "      <th>Label</th>\n",
              "    </tr>\n",
              "  </thead>\n",
              "  <tbody>\n",
              "    <tr>\n",
              "      <th>0</th>\n",
              "      <td>ucmo.edu</td>\n",
              "      <td>0</td>\n",
              "      <td>0</td>\n",
              "      <td>0</td>\n",
              "      <td>4</td>\n",
              "      <td>0</td>\n",
              "      <td>0</td>\n",
              "      <td>0</td>\n",
              "      <td>0</td>\n",
              "      <td>0</td>\n",
              "      <td>1</td>\n",
              "      <td>1</td>\n",
              "      <td>1</td>\n",
              "      <td>1</td>\n",
              "      <td>1</td>\n",
              "      <td>1</td>\n",
              "      <td>0</td>\n",
              "    </tr>\n",
              "    <tr>\n",
              "      <th>1</th>\n",
              "      <td>amazon.com</td>\n",
              "      <td>0</td>\n",
              "      <td>0</td>\n",
              "      <td>0</td>\n",
              "      <td>4</td>\n",
              "      <td>0</td>\n",
              "      <td>0</td>\n",
              "      <td>0</td>\n",
              "      <td>0</td>\n",
              "      <td>0</td>\n",
              "      <td>1</td>\n",
              "      <td>1</td>\n",
              "      <td>1</td>\n",
              "      <td>1</td>\n",
              "      <td>1</td>\n",
              "      <td>1</td>\n",
              "      <td>0</td>\n",
              "    </tr>\n",
              "    <tr>\n",
              "      <th>2</th>\n",
              "      <td>juicyfinder.com</td>\n",
              "      <td>0</td>\n",
              "      <td>0</td>\n",
              "      <td>0</td>\n",
              "      <td>2</td>\n",
              "      <td>0</td>\n",
              "      <td>0</td>\n",
              "      <td>0</td>\n",
              "      <td>0</td>\n",
              "      <td>0</td>\n",
              "      <td>1</td>\n",
              "      <td>1</td>\n",
              "      <td>1</td>\n",
              "      <td>1</td>\n",
              "      <td>1</td>\n",
              "      <td>1</td>\n",
              "      <td>0</td>\n",
              "    </tr>\n",
              "    <tr>\n",
              "      <th>3</th>\n",
              "      <td>martindale.com</td>\n",
              "      <td>0</td>\n",
              "      <td>0</td>\n",
              "      <td>1</td>\n",
              "      <td>3</td>\n",
              "      <td>0</td>\n",
              "      <td>0</td>\n",
              "      <td>0</td>\n",
              "      <td>0</td>\n",
              "      <td>0</td>\n",
              "      <td>1</td>\n",
              "      <td>1</td>\n",
              "      <td>1</td>\n",
              "      <td>1</td>\n",
              "      <td>1</td>\n",
              "      <td>1</td>\n",
              "      <td>0</td>\n",
              "    </tr>\n",
              "    <tr>\n",
              "      <th>4</th>\n",
              "      <td>montrealladies.com</td>\n",
              "      <td>0</td>\n",
              "      <td>0</td>\n",
              "      <td>0</td>\n",
              "      <td>1</td>\n",
              "      <td>0</td>\n",
              "      <td>0</td>\n",
              "      <td>0</td>\n",
              "      <td>0</td>\n",
              "      <td>0</td>\n",
              "      <td>1</td>\n",
              "      <td>1</td>\n",
              "      <td>1</td>\n",
              "      <td>1</td>\n",
              "      <td>1</td>\n",
              "      <td>1</td>\n",
              "      <td>0</td>\n",
              "    </tr>\n",
              "  </tbody>\n",
              "</table>\n",
              "</div>"
            ],
            "text/plain": [
              "               Domain  Have_IP  Have_At  URL_Length  URL_Depth  Redirection  \\\n",
              "0            ucmo.edu        0        0           0          4            0   \n",
              "1          amazon.com        0        0           0          4            0   \n",
              "2     juicyfinder.com        0        0           0          2            0   \n",
              "3      martindale.com        0        0           1          3            0   \n",
              "4  montrealladies.com        0        0           0          1            0   \n",
              "\n",
              "   https_Domain  TinyURL  Prefix/Suffix  DNS_Record  Domain_Age  Domain_End  \\\n",
              "0             0        0              0           0           1           1   \n",
              "1             0        0              0           0           1           1   \n",
              "2             0        0              0           0           1           1   \n",
              "3             0        0              0           0           1           1   \n",
              "4             0        0              0           0           1           1   \n",
              "\n",
              "   iFrame  Mouse_Over  Right_Click  Web_Forwards  Label  \n",
              "0       1           1            1             1      0  \n",
              "1       1           1            1             1      0  \n",
              "2       1           1            1             1      0  \n",
              "3       1           1            1             1      0  \n",
              "4       1           1            1             1      0  "
            ]
          },
          "execution_count": 32,
          "metadata": {},
          "output_type": "execute_result"
        }
      ],
      "source": [
        "df_url = pd.read_csv('./datasets/final_dataset.csv')\n",
        "df_url.head()"
      ]
    },
    {
      "cell_type": "markdown",
      "metadata": {
        "id": "5XNCoMUIDg3u"
      },
      "source": [
        "## **Data Preprocessing**"
      ]
    },
    {
      "cell_type": "markdown",
      "metadata": {
        "id": "1q2BABHzvtPn"
      },
      "source": [
        "First, let's evaluate the dataframe."
      ]
    },
    {
      "cell_type": "code",
      "execution_count": 33,
      "metadata": {
        "id": "ClH9e75EDlgH"
      },
      "outputs": [
        {
          "data": {
            "text/plain": [
              "(15000, 17)"
            ]
          },
          "execution_count": 33,
          "metadata": {},
          "output_type": "execute_result"
        }
      ],
      "source": [
        "# Determine the shape of the dataframe\n",
        "df_url.shape"
      ]
    },
    {
      "cell_type": "code",
      "execution_count": 34,
      "metadata": {},
      "outputs": [
        {
          "data": {
            "text/plain": [
              "Index(['Domain', 'Have_IP', 'Have_At', 'URL_Length', 'URL_Depth',\n",
              "       'Redirection', 'https_Domain', 'TinyURL', 'Prefix/Suffix', 'DNS_Record',\n",
              "       'Domain_Age', 'Domain_End', 'iFrame', 'Mouse_Over', 'Right_Click',\n",
              "       'Web_Forwards', 'Label'],\n",
              "      dtype='object')"
            ]
          },
          "execution_count": 34,
          "metadata": {},
          "output_type": "execute_result"
        }
      ],
      "source": [
        "# Determine its columns\n",
        "df_url.columns"
      ]
    },
    {
      "cell_type": "markdown",
      "metadata": {},
      "source": [
        "This indicates that the dataframe has `17 columns` and `15000 rows`. Each column represents a feature associated with each URL. Now let's perform some exploration with the dataframe."
      ]
    },
    {
      "cell_type": "code",
      "execution_count": 35,
      "metadata": {},
      "outputs": [
        {
          "name": "stdout",
          "output_type": "stream",
          "text": [
            "<class 'pandas.core.frame.DataFrame'>\n",
            "RangeIndex: 15000 entries, 0 to 14999\n",
            "Data columns (total 17 columns):\n",
            " #   Column         Non-Null Count  Dtype \n",
            "---  ------         --------------  ----- \n",
            " 0   Domain         15000 non-null  object\n",
            " 1   Have_IP        15000 non-null  int64 \n",
            " 2   Have_At        15000 non-null  int64 \n",
            " 3   URL_Length     15000 non-null  int64 \n",
            " 4   URL_Depth      15000 non-null  int64 \n",
            " 5   Redirection    15000 non-null  int64 \n",
            " 6   https_Domain   15000 non-null  int64 \n",
            " 7   TinyURL        15000 non-null  int64 \n",
            " 8   Prefix/Suffix  15000 non-null  int64 \n",
            " 9   DNS_Record     15000 non-null  int64 \n",
            " 10  Domain_Age     15000 non-null  int64 \n",
            " 11  Domain_End     15000 non-null  int64 \n",
            " 12  iFrame         15000 non-null  int64 \n",
            " 13  Mouse_Over     15000 non-null  int64 \n",
            " 14  Right_Click    15000 non-null  int64 \n",
            " 15  Web_Forwards   15000 non-null  int64 \n",
            " 16  Label          15000 non-null  int64 \n",
            "dtypes: int64(16), object(1)\n",
            "memory usage: 1.9+ MB\n"
          ]
        }
      ],
      "source": [
        "df_url.info()"
      ]
    },
    {
      "cell_type": "markdown",
      "metadata": {},
      "source": [
        "Each column contains an `int` except for `Domain`, which is a string. Let's analyze each feature. "
      ]
    },
    {
      "cell_type": "code",
      "execution_count": 36,
      "metadata": {},
      "outputs": [
        {
          "name": "stdout",
          "output_type": "stream",
          "text": [
            "Domain: ['ucmo.edu' 'amazon.com' 'juicyfinder.com' ... 'linkzip.net' 'smxqfps.biz'\n",
            " 'klaretech.com']\n",
            "Have_IP: [0 1]\n",
            "Have_At: [0 1]\n",
            "URL_Length: [0 1]\n",
            "URL_Depth: [ 4  2  3  1  6  5  7  8  9 10 11 14 13 17 12 15 16 25 19]\n",
            "Redirection: [0 1]\n",
            "https_Domain: [0]\n",
            "TinyURL: [0 1]\n",
            "Prefix/Suffix: [0 1]\n",
            "DNS_Record: [0 1]\n",
            "Domain_Age: [1 0]\n",
            "Domain_End: [1 0]\n",
            "iFrame: [1 0]\n",
            "Mouse_Over: [1 0]\n",
            "Right_Click: [1]\n",
            "Web_Forwards: [1 0]\n",
            "Label: [0 1]\n"
          ]
        }
      ],
      "source": [
        "for feature in df_url.columns:\n",
        "    print(f'{feature}: {df_url[feature].unique()}')"
      ]
    },
    {
      "cell_type": "markdown",
      "metadata": {},
      "source": [
        "From this, we can remove `https_Domain` and `Right_Click` columns from the dataframe since they do not contribute any information that is helpful in determining whether or not a set of URL features belongs to a phishing website. "
      ]
    },
    {
      "cell_type": "code",
      "execution_count": 37,
      "metadata": {},
      "outputs": [
        {
          "data": {
            "text/plain": [
              "(15000, 15)"
            ]
          },
          "execution_count": 37,
          "metadata": {},
          "output_type": "execute_result"
        }
      ],
      "source": [
        "df_url.drop(['https_Domain', 'Right_Click'], axis=1, inplace=True)\n",
        "df_url.columns\n",
        "df_url.shape"
      ]
    },
    {
      "cell_type": "markdown",
      "metadata": {},
      "source": [
        "The dataframe now only has `15 columns`."
      ]
    },
    {
      "cell_type": "markdown",
      "metadata": {},
      "source": []
    }
  ],
  "metadata": {
    "colab": {
      "provenance": []
    },
    "kernelspec": {
      "display_name": "Python 3",
      "name": "python3"
    },
    "language_info": {
      "codemirror_mode": {
        "name": "ipython",
        "version": 3
      },
      "file_extension": ".py",
      "mimetype": "text/x-python",
      "name": "python",
      "nbconvert_exporter": "python",
      "pygments_lexer": "ipython3",
      "version": "3.10.12"
    }
  },
  "nbformat": 4,
  "nbformat_minor": 0
}
